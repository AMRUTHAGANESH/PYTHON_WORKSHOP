{
  "nbformat": 4,
  "nbformat_minor": 0,
  "metadata": {
    "colab": {
      "name": "Untitled42.ipynb",
      "provenance": [],
      "authorship_tag": "ABX9TyNot1hQV/cMhVKZHwyNeclf",
      "include_colab_link": true
    },
    "kernelspec": {
      "name": "python3",
      "display_name": "Python 3"
    }
  },
  "cells": [
    {
      "cell_type": "markdown",
      "metadata": {
        "id": "view-in-github",
        "colab_type": "text"
      },
      "source": [
        "<a href=\"https://colab.research.google.com/github/AMRUTHAGANESH/PYTHON_WORKSHOP/blob/master/Untitled42.ipynb\" target=\"_parent\"><img src=\"https://colab.research.google.com/assets/colab-badge.svg\" alt=\"Open In Colab\"/></a>"
      ]
    },
    {
      "cell_type": "code",
      "metadata": {
        "id": "aV4X-QsGg4WT",
        "colab_type": "code",
        "colab": {}
      },
      "source": [
        ""
      ],
      "execution_count": null,
      "outputs": []
    },
    {
      "cell_type": "markdown",
      "metadata": {
        "id": "04Gq2-Llg4-C",
        "colab_type": "text"
      },
      "source": [
        "#Write a Python Program to Print Multiplication Table of a number which got through keyboard."
      ]
    },
    {
      "cell_type": "code",
      "metadata": {
        "id": "hsaX2Ofag9nN",
        "colab_type": "code",
        "colab": {
          "base_uri": "https://localhost:8080/",
          "height": 221
        },
        "outputId": "83789766-daa2-44a3-d0fe-5ce97323a0ab"
      },
      "source": [
        "num = int(input(\"Enter the number: \"))\n",
        " \n",
        "print(\"Multiplication Table of\", num)\n",
        "for i in range(1, 11):\n",
        "   print(num,\"X\",i,\"=\",num * i)\n"
      ],
      "execution_count": 1,
      "outputs": [
        {
          "output_type": "stream",
          "text": [
            "Enter the number: 2\n",
            "Multiplication Table of 2\n",
            "2 X 1 = 2\n",
            "2 X 2 = 4\n",
            "2 X 3 = 6\n",
            "2 X 4 = 8\n",
            "2 X 5 = 10\n",
            "2 X 6 = 12\n",
            "2 X 7 = 14\n",
            "2 X 8 = 16\n",
            "2 X 9 = 18\n",
            "2 X 10 = 20\n"
          ],
          "name": "stdout"
        }
      ]
    }
  ]
}