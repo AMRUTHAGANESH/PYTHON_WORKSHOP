{
  "nbformat": 4,
  "nbformat_minor": 0,
  "metadata": {
    "colab": {
      "name": "Untitled70.ipynb",
      "provenance": [],
      "authorship_tag": "ABX9TyNiK+PBw9kCh/NXQvvqnqjt",
      "include_colab_link": true
    },
    "kernelspec": {
      "name": "python3",
      "display_name": "Python 3"
    }
  },
  "cells": [
    {
      "cell_type": "markdown",
      "metadata": {
        "id": "view-in-github",
        "colab_type": "text"
      },
      "source": [
        "<a href=\"https://colab.research.google.com/github/AMRUTHAGANESH/PYTHON_WORKSHOP/blob/master/Untitled70.ipynb\" target=\"_parent\"><img src=\"https://colab.research.google.com/assets/colab-badge.svg\" alt=\"Open In Colab\"/></a>"
      ]
    },
    {
      "cell_type": "code",
      "metadata": {
        "id": "tJgdvvLKFaIS",
        "colab_type": "code",
        "colab": {}
      },
      "source": [
        ""
      ],
      "execution_count": null,
      "outputs": []
    },
    {
      "cell_type": "markdown",
      "metadata": {
        "id": "PUv1y8_fFbmS",
        "colab_type": "text"
      },
      "source": [
        "#Write a Python program to find prime numbers between 200 and 600 (both included). The numbers obtained should be printed in a comma-separated sequence"
      ]
    },
    {
      "cell_type": "code",
      "metadata": {
        "id": "id5X_aUHFdKU",
        "colab_type": "code",
        "colab": {
          "base_uri": "https://localhost:8080/",
          "height": 34
        },
        "outputId": "cd11f35c-ffc5-445c-9e40-4f5643cea09d"
      },
      "source": [
        "nl=[]\n",
        "for x in range(100, 400):\n",
        "    if (x%7==0) and (x%5==0):\n",
        "        nl.append(str(x))\n",
        "print (','.join(nl))"
      ],
      "execution_count": 1,
      "outputs": [
        {
          "output_type": "stream",
          "text": [
            "105,140,175,210,245,280,315,350,385\n"
          ],
          "name": "stdout"
        }
      ]
    }
  ]
}