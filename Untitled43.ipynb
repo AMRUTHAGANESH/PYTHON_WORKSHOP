{
  "nbformat": 4,
  "nbformat_minor": 0,
  "metadata": {
    "colab": {
      "name": "Untitled43.ipynb",
      "provenance": [],
      "authorship_tag": "ABX9TyMlWDKZKJ9LX5rJ7q+0SmZM",
      "include_colab_link": true
    },
    "kernelspec": {
      "name": "python3",
      "display_name": "Python 3"
    }
  },
  "cells": [
    {
      "cell_type": "markdown",
      "metadata": {
        "id": "view-in-github",
        "colab_type": "text"
      },
      "source": [
        "<a href=\"https://colab.research.google.com/github/AMRUTHAGANESH/PYTHON_WORKSHOP/blob/master/Untitled43.ipynb\" target=\"_parent\"><img src=\"https://colab.research.google.com/assets/colab-badge.svg\" alt=\"Open In Colab\"/></a>"
      ]
    },
    {
      "cell_type": "code",
      "metadata": {
        "id": "cZoMrIyhhTqI",
        "colab_type": "code",
        "colab": {}
      },
      "source": [
        ""
      ],
      "execution_count": null,
      "outputs": []
    },
    {
      "cell_type": "markdown",
      "metadata": {
        "id": "DCYxz_uShUdB",
        "colab_type": "text"
      },
      "source": [
        "#Write a Python Program to find the Armstrong Numbers between 1 and 2000 ( i.e 153 is amtrong numbers as 13+53+3**3=153 )"
      ]
    },
    {
      "cell_type": "code",
      "metadata": {
        "id": "L7_iww0BhYd-",
        "colab_type": "code",
        "colab": {
          "base_uri": "https://localhost:8080/",
          "height": 136
        },
        "outputId": "2a9fa2ee-82e3-4660-ecf0-7a0daef84adf"
      },
      "source": [
        "print(\"Enter the interval (starting and ending number): \");\n",
        "start = input();\n",
        "if start == 'x':\n",
        "    exit();\n",
        "else:\n",
        "    end = input();\n",
        "    lower = int(start);\n",
        "    upper = int(end);\n",
        "    for num in range(lower, upper+1):\n",
        "        tot = 0;\n",
        "        temp = num;\n",
        "        while temp != 0:\n",
        "            dig = temp % 10;\n",
        "            tot += dig ** 3;\n",
        "            temp //= 10;\n",
        "        if num == tot:\n",
        "            print(num);"
      ],
      "execution_count": 1,
      "outputs": [
        {
          "output_type": "stream",
          "text": [
            "Enter the interval (starting and ending number): \n",
            "2\n",
            "2000\n",
            "153\n",
            "370\n",
            "371\n",
            "407\n"
          ],
          "name": "stdout"
        }
      ]
    }
  ]
}