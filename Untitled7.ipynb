{
  "nbformat": 4,
  "nbformat_minor": 0,
  "metadata": {
    "colab": {
      "name": "Untitled7.ipynb",
      "provenance": [],
      "authorship_tag": "ABX9TyPSgBTPBT0ig00oC/DXBfV4",
      "include_colab_link": true
    },
    "kernelspec": {
      "name": "python3",
      "display_name": "Python 3"
    }
  },
  "cells": [
    {
      "cell_type": "markdown",
      "metadata": {
        "id": "view-in-github",
        "colab_type": "text"
      },
      "source": [
        "<a href=\"https://colab.research.google.com/github/AMRUTHAGANESH/PYTHON_WORKSHOP/blob/master/Untitled7.ipynb\" target=\"_parent\"><img src=\"https://colab.research.google.com/assets/colab-badge.svg\" alt=\"Open In Colab\"/></a>"
      ]
    },
    {
      "cell_type": "code",
      "metadata": {
        "id": "wTr7AYp5Ng3u",
        "colab_type": "code",
        "colab": {}
      },
      "source": [
        ""
      ],
      "execution_count": null,
      "outputs": []
    },
    {
      "cell_type": "markdown",
      "metadata": {
        "id": "149L8OJcNiAt",
        "colab_type": "text"
      },
      "source": [
        "#Write a program for finding surface areas of cylinder and cone (2PIrrh, 1/3PIrrh) using function"
      ]
    },
    {
      "cell_type": "code",
      "metadata": {
        "id": "an_srXeCNsYT",
        "colab_type": "code",
        "colab": {
          "base_uri": "https://localhost:8080/",
          "height": 51
        },
        "outputId": "602529a4-8b56-4820-b336-ad2f19b5a8a8"
      },
      "source": [
        "import math \n",
        " \n",
        "pi = math.pi \n",
        "# Function To Calculate Surface Area of Cone \n",
        " \n",
        "def surfacearea(r, s): \n",
        " \n",
        "    return pi * r * s + pi * r * r \n",
        " \n",
        "# Function To Calculate Total Surface Area \n",
        "# of Cylinder \n",
        " \n",
        "def totalsurfacearea(r, h): \n",
        " \n",
        "    tsurf_ar = (2 * pi * r * h) + (2 * pi * r * r) \n",
        " \n",
        "    return tsurf_ar \n",
        "  \n",
        "# Driver Code \n",
        " \n",
        "radius = float(5) \n",
        " \n",
        "height = float(12) \n",
        " \n",
        "slat_height = float(13) \n",
        " \n",
        "r = 5\n",
        " \n",
        "h = 8\n",
        "print( \"Surface Area Of Cone : \", surfacearea(radius, slat_height) )\n",
        " \n",
        "print(\"Total  Surface Area  Of Cylinder =  \",totalsurfacearea(r,h))"
      ],
      "execution_count": 1,
      "outputs": [
        {
          "output_type": "stream",
          "text": [
            "Surface Area Of Cone :  282.7433388230814\n",
            "Total  Surface Area  Of Cylinder =   408.4070449666731\n"
          ],
          "name": "stdout"
        }
      ]
    }
  ]
}