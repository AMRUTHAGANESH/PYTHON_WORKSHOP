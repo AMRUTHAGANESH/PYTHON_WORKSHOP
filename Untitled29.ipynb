{
  "nbformat": 4,
  "nbformat_minor": 0,
  "metadata": {
    "colab": {
      "name": "Untitled29.ipynb",
      "provenance": [],
      "authorship_tag": "ABX9TyOyojk7n+A5MxkCY6Vod69G",
      "include_colab_link": true
    },
    "kernelspec": {
      "name": "python3",
      "display_name": "Python 3"
    }
  },
  "cells": [
    {
      "cell_type": "markdown",
      "metadata": {
        "id": "view-in-github",
        "colab_type": "text"
      },
      "source": [
        "<a href=\"https://colab.research.google.com/github/AMRUTHAGANESH/PYTHON_WORKSHOP/blob/master/Untitled29.ipynb\" target=\"_parent\"><img src=\"https://colab.research.google.com/assets/colab-badge.svg\" alt=\"Open In Colab\"/></a>"
      ]
    },
    {
      "cell_type": "code",
      "metadata": {
        "id": "chRUXKJDjprp",
        "colab_type": "code",
        "colab": {}
      },
      "source": [
        ""
      ],
      "execution_count": null,
      "outputs": []
    },
    {
      "cell_type": "markdown",
      "metadata": {
        "id": "ChptKJo_jqf0",
        "colab_type": "text"
      },
      "source": [
        "#3.Write a program to print the triangle\n",
        "i/p 5\n",
        "5\n",
        "4 5\n",
        "3 4 5\n",
        "2 3 4 5\n",
        "1 2 3 4 5¶"
      ]
    },
    {
      "cell_type": "code",
      "metadata": {
        "id": "0AMHA04ljunJ",
        "colab_type": "code",
        "colab": {
          "base_uri": "https://localhost:8080/",
          "height": 102
        },
        "outputId": "cfea67e4-518e-40b3-9ef9-5e1db129542b"
      },
      "source": [
        "for i in range(5,0,-1):\n",
        "    for j in range(i,6):\n",
        "        print(j,end='')\n",
        "    print()"
      ],
      "execution_count": 1,
      "outputs": [
        {
          "output_type": "stream",
          "text": [
            "5\n",
            "45\n",
            "345\n",
            "2345\n",
            "12345\n"
          ],
          "name": "stdout"
        }
      ]
    }
  ]
}