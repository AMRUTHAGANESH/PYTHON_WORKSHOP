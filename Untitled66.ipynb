{
  "nbformat": 4,
  "nbformat_minor": 0,
  "metadata": {
    "colab": {
      "name": "Untitled66.ipynb",
      "provenance": [],
      "authorship_tag": "ABX9TyOSp8jGtEW9gsrfPs8gEY9l",
      "include_colab_link": true
    },
    "kernelspec": {
      "name": "python3",
      "display_name": "Python 3"
    }
  },
  "cells": [
    {
      "cell_type": "markdown",
      "metadata": {
        "id": "view-in-github",
        "colab_type": "text"
      },
      "source": [
        "<a href=\"https://colab.research.google.com/github/AMRUTHAGANESH/PYTHON_WORKSHOP/blob/master/Untitled66.ipynb\" target=\"_parent\"><img src=\"https://colab.research.google.com/assets/colab-badge.svg\" alt=\"Open In Colab\"/></a>"
      ]
    },
    {
      "cell_type": "code",
      "metadata": {
        "id": "UvMpAm0qC-ln",
        "colab_type": "code",
        "colab": {}
      },
      "source": [
        ""
      ],
      "execution_count": null,
      "outputs": []
    },
    {
      "cell_type": "markdown",
      "metadata": {
        "id": "RzMnaUyaC_wo",
        "colab_type": "text"
      },
      "source": [
        "#Pythonic program of 2 line"
      ]
    },
    {
      "cell_type": "code",
      "metadata": {
        "id": "3w4PyStZDDZB",
        "colab_type": "code",
        "colab": {
          "base_uri": "https://localhost:8080/",
          "height": 51
        },
        "outputId": "9ec1a98c-3188-420b-b244-13439bf64f6f"
      },
      "source": [
        "import random\n",
        "l=[random.randint(1,20) for _ in range(int(input(\"Enter how many elements\")))]\n",
        "print('Randomised list is: ',l)"
      ],
      "execution_count": 1,
      "outputs": [
        {
          "output_type": "stream",
          "text": [
            "Enter how many elements5\n",
            "Randomised list is:  [15, 3, 7, 15, 20]\n"
          ],
          "name": "stdout"
        }
      ]
    }
  ]
}