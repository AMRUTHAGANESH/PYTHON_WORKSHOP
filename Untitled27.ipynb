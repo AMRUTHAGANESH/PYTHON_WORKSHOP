{
  "nbformat": 4,
  "nbformat_minor": 0,
  "metadata": {
    "colab": {
      "name": "Untitled27.ipynb",
      "provenance": [],
      "authorship_tag": "ABX9TyO80f2xfqphM7YZH2K7R/nn",
      "include_colab_link": true
    },
    "kernelspec": {
      "name": "python3",
      "display_name": "Python 3"
    }
  },
  "cells": [
    {
      "cell_type": "markdown",
      "metadata": {
        "id": "view-in-github",
        "colab_type": "text"
      },
      "source": [
        "<a href=\"https://colab.research.google.com/github/AMRUTHAGANESH/PYTHON_WORKSHOP/blob/master/Untitled27.ipynb\" target=\"_parent\"><img src=\"https://colab.research.google.com/assets/colab-badge.svg\" alt=\"Open In Colab\"/></a>"
      ]
    },
    {
      "cell_type": "code",
      "metadata": {
        "id": "aDS59BcminFP",
        "colab_type": "code",
        "colab": {}
      },
      "source": [
        ""
      ],
      "execution_count": null,
      "outputs": []
    },
    {
      "cell_type": "markdown",
      "metadata": {
        "id": "Ztrgeo56ipEd",
        "colab_type": "text"
      },
      "source": [
        "#1.Write a program to print the triangle\n",
        "i/p 4\n",
        "1\n",
        "2 3\n",
        "3 4 5\n",
        "4 5 6 7"
      ]
    },
    {
      "cell_type": "code",
      "metadata": {
        "id": "HDRlBKGEizoj",
        "colab_type": "code",
        "colab": {
          "base_uri": "https://localhost:8080/",
          "height": 85
        },
        "outputId": "4e6739c1-02f3-4812-8796-31ba7cb6bbca"
      },
      "source": [
        "currentNumber = 1\n",
        "rows = 4  # Rows you want in your pattern\n",
        "stop = 1\n",
        "for i in range(rows):\n",
        "    for column in range(1, stop):\n",
        "        print(currentNumber, end=' ')\n",
        "        currentNumber +=1\n",
        "    print(\"\")\n",
        "    stop += 1"
      ],
      "execution_count": 1,
      "outputs": [
        {
          "output_type": "stream",
          "text": [
            "\n",
            "1 \n",
            "2 3 \n",
            "4 5 6 \n"
          ],
          "name": "stdout"
        }
      ]
    }
  ]
}