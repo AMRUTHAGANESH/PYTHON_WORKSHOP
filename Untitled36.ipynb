{
  "nbformat": 4,
  "nbformat_minor": 0,
  "metadata": {
    "colab": {
      "name": "Untitled36.ipynb",
      "provenance": [],
      "authorship_tag": "ABX9TyOrsxJBxRHh6I5MxgU7E6tg",
      "include_colab_link": true
    },
    "kernelspec": {
      "name": "python3",
      "display_name": "Python 3"
    }
  },
  "cells": [
    {
      "cell_type": "markdown",
      "metadata": {
        "id": "view-in-github",
        "colab_type": "text"
      },
      "source": [
        "<a href=\"https://colab.research.google.com/github/AMRUTHAGANESH/PYTHON_WORKSHOP/blob/master/Untitled36.ipynb\" target=\"_parent\"><img src=\"https://colab.research.google.com/assets/colab-badge.svg\" alt=\"Open In Colab\"/></a>"
      ]
    },
    {
      "cell_type": "code",
      "metadata": {
        "id": "Ipz8DBSwb2F6",
        "colab_type": "code",
        "colab": {}
      },
      "source": [
        ""
      ],
      "execution_count": null,
      "outputs": []
    },
    {
      "cell_type": "markdown",
      "metadata": {
        "id": "6uD8OHWGb23M",
        "colab_type": "text"
      },
      "source": [
        "#Python Program to count the total number of charaters (except blank space) in a text file."
      ]
    },
    {
      "cell_type": "code",
      "metadata": {
        "id": "aUtdNkWAcCeG",
        "colab_type": "code",
        "colab": {}
      },
      "source": [
        "#open file in read mode\n",
        "file = open(\"C:\\data.txt\", \"r\")\n",
        " \n",
        "#read the content of file\n",
        "data = file.read()\n",
        " \n",
        "#get the length of the data\n",
        "number_of_characters = len(data)\n",
        " \n",
        "print('Number of characters in text file :', number_of_characters)"
      ],
      "execution_count": null,
      "outputs": []
    }
  ]
}