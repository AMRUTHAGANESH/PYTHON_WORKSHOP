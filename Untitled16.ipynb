{
  "nbformat": 4,
  "nbformat_minor": 0,
  "metadata": {
    "colab": {
      "name": "Untitled16.ipynb",
      "provenance": [],
      "authorship_tag": "ABX9TyPJz12j5/xZ8H2ZhJA0Bkec",
      "include_colab_link": true
    },
    "kernelspec": {
      "name": "python3",
      "display_name": "Python 3"
    }
  },
  "cells": [
    {
      "cell_type": "markdown",
      "metadata": {
        "id": "view-in-github",
        "colab_type": "text"
      },
      "source": [
        "<a href=\"https://colab.research.google.com/github/AMRUTHAGANESH/PYTHON_WORKSHOP/blob/master/Untitled16.ipynb\" target=\"_parent\"><img src=\"https://colab.research.google.com/assets/colab-badge.svg\" alt=\"Open In Colab\"/></a>"
      ]
    },
    {
      "cell_type": "code",
      "metadata": {
        "id": "Tm5mN5lqS-kp",
        "colab_type": "code",
        "colab": {}
      },
      "source": [
        ""
      ],
      "execution_count": null,
      "outputs": []
    },
    {
      "cell_type": "markdown",
      "metadata": {
        "id": "Jf-zmhDNTABc",
        "colab_type": "text"
      },
      "source": [
        "#CALCULATORE PROGRAM"
      ]
    },
    {
      "cell_type": "code",
      "metadata": {
        "id": "gDnVDb-sVXFE",
        "colab_type": "code",
        "colab": {}
      },
      "source": [
        "loop = 1 # 1 means loop; anything else means don't loop.\n",
        "choice = 0 # This variable holds the user's choice in the menu\n",
        " \n",
        "def add(a,b):\n",
        "    return a+b \n",
        "def sub(a,b):\n",
        "    return a-b\n",
        "def mul(a,b):\n",
        "    return a*b\n",
        "def div(a,b):\n",
        "    return a/b\n",
        " \n",
        "while loop == 1:\n",
        "    # Print what options you have\n",
        "    print (\"Welcome to calculator.py\")\n",
        "    print (\"your options are:\")\n",
        "    print (\" \")\n",
        "    print(\"1) Addition\")\n",
        "    print(\"2) Subtraction\")\n",
        "    print(\"3) Multiplication\")\n",
        "    print(\"4) Division\")\n",
        "    print(\"5) Quit calculator.py\")\n",
        "    print(\" \")\n",
        "    try:\n",
        "        choice = int(input(\"Choose your option: \"))\n",
        "    except:\n",
        "        print('please enter a valid number for option')\n",
        "        print(\" \")\n",
        "        print(\" \")\n",
        "    if choice == 1:\n",
        "         x = int(input(\"Enter 1st no: \"))\n",
        "         y = int(input(\"Enter 2nd no: \"))\n",
        "         print(\"The answer is \",add(x,y))\n",
        " \n",
        "    elif choice == 2:\n",
        "          x = int(input(\"Enter 1st no: \"))\n",
        "          y = int(input(\"Enter 2nd no: \"))\n",
        "          print(\"answer is \",sub(x,y))\n",
        "  \n",
        "    elif choice == 3:\n",
        "          x = int(input(\"Enter 1st no: \"))\n",
        "          y = int(input(\"Enter 2nd no: \"))\n",
        "          print(\"answer is \",mul(x,y))\n",
        " \n",
        "    elif choice == 4:\n",
        "          x = int(input(\"Enter 1st no: \"))\n",
        "          y = int(input(\"Enter 2nd no: \"))\n",
        "          print(\"answer is \",div(x,y))\n",
        "        \n",
        "    elif choice == 5:\n",
        "          loop = 0\n",
        "     \n",
        "    else:\n",
        "        print(\"please choice a valid option from 1 to 5\")\n",
        "        choice=0\n",
        "        print(\"Thank-you for using calculator.py!\")"
      ],
      "execution_count": null,
      "outputs": []
    }
  ]
}