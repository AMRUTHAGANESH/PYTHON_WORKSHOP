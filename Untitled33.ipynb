{
  "nbformat": 4,
  "nbformat_minor": 0,
  "metadata": {
    "colab": {
      "name": "Untitled33.ipynb",
      "provenance": [],
      "authorship_tag": "ABX9TyPONrTbs6Mlwo7Ktb//Epoc",
      "include_colab_link": true
    },
    "kernelspec": {
      "name": "python3",
      "display_name": "Python 3"
    }
  },
  "cells": [
    {
      "cell_type": "markdown",
      "metadata": {
        "id": "view-in-github",
        "colab_type": "text"
      },
      "source": [
        "<a href=\"https://colab.research.google.com/github/AMRUTHAGANESH/PYTHON_WORKSHOP/blob/master/Untitled33.ipynb\" target=\"_parent\"><img src=\"https://colab.research.google.com/assets/colab-badge.svg\" alt=\"Open In Colab\"/></a>"
      ]
    },
    {
      "cell_type": "code",
      "metadata": {
        "id": "ZyxQPWy9oN07",
        "colab_type": "code",
        "colab": {}
      },
      "source": [
        ""
      ],
      "execution_count": null,
      "outputs": []
    },
    {
      "cell_type": "markdown",
      "metadata": {
        "id": "Vd2Ba4SPoOgT",
        "colab_type": "text"
      },
      "source": [
        "#8.Find the no of occurrences of a word in a string¶"
      ]
    },
    {
      "cell_type": "code",
      "metadata": {
        "id": "XBap13SBoTlo",
        "colab_type": "code",
        "colab": {
          "base_uri": "https://localhost:8080/",
          "height": 34
        },
        "outputId": "fb9eed00-6acb-464e-d080-e76d267765ab"
      },
      "source": [
        "# define string\n",
        "string = \"Python is awesome, isn't it?\"\n",
        "substring = \"is\"\n",
        " \n",
        "count = string.count(substring)\n",
        " \n",
        "# print count\n",
        "print(\"The count is:\", count)"
      ],
      "execution_count": 1,
      "outputs": [
        {
          "output_type": "stream",
          "text": [
            "The count is: 2\n"
          ],
          "name": "stdout"
        }
      ]
    }
  ]
}