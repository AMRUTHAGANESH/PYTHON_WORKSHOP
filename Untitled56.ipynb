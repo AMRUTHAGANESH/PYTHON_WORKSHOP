{
  "nbformat": 4,
  "nbformat_minor": 0,
  "metadata": {
    "colab": {
      "name": "Untitled56.ipynb",
      "provenance": [],
      "authorship_tag": "ABX9TyNCcCfVR3674h0u7ryQsMk9",
      "include_colab_link": true
    },
    "kernelspec": {
      "name": "python3",
      "display_name": "Python 3"
    }
  },
  "cells": [
    {
      "cell_type": "markdown",
      "metadata": {
        "id": "view-in-github",
        "colab_type": "text"
      },
      "source": [
        "<a href=\"https://colab.research.google.com/github/AMRUTHAGANESH/PYTHON_WORKSHOP/blob/master/Untitled56.ipynb\" target=\"_parent\"><img src=\"https://colab.research.google.com/assets/colab-badge.svg\" alt=\"Open In Colab\"/></a>"
      ]
    },
    {
      "cell_type": "code",
      "metadata": {
        "id": "rmYNFqE051H7",
        "colab_type": "code",
        "colab": {}
      },
      "source": [
        ""
      ],
      "execution_count": null,
      "outputs": []
    },
    {
      "cell_type": "markdown",
      "metadata": {
        "id": "c-ViIaqR54mY",
        "colab_type": "text"
      },
      "source": [
        "#Program to put the even and odd elements in a list into two different lists"
      ]
    },
    {
      "cell_type": "code",
      "metadata": {
        "id": "IgSDymTZ5_kN",
        "colab_type": "code",
        "colab": {}
      },
      "source": [
        "\n",
        "a=[]\n",
        "n=int(input(\"Enter number of elements:\"))\n",
        "for i in range(1,n+1):\n",
        "    b=int(input(\"Enter element:\"))\n",
        "    a.append(b)\n",
        "even=[]\n",
        "odd=[]\n",
        "for j in a:\n",
        "    if(j%2==0):\n",
        "        even.append(j)\n",
        "    else:\n",
        "        odd.append(j)\n",
        "print(\"The even list\",even)\n",
        "print(\"The odd list\",odd"
      ],
      "execution_count": null,
      "outputs": []
    }
  ]
}