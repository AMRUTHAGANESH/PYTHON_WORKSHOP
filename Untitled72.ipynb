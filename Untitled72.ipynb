{
  "nbformat": 4,
  "nbformat_minor": 0,
  "metadata": {
    "colab": {
      "name": "Untitled72.ipynb",
      "provenance": [],
      "authorship_tag": "ABX9TyPR+jPpIB4bl6dNEu8jIgAw",
      "include_colab_link": true
    },
    "kernelspec": {
      "name": "python3",
      "display_name": "Python 3"
    }
  },
  "cells": [
    {
      "cell_type": "markdown",
      "metadata": {
        "id": "view-in-github",
        "colab_type": "text"
      },
      "source": [
        "<a href=\"https://colab.research.google.com/github/AMRUTHAGANESH/PYTHON_WORKSHOP/blob/master/Untitled72.ipynb\" target=\"_parent\"><img src=\"https://colab.research.google.com/assets/colab-badge.svg\" alt=\"Open In Colab\"/></a>"
      ]
    },
    {
      "cell_type": "code",
      "metadata": {
        "id": "dIHmnWhjGiAE",
        "colab_type": "code",
        "colab": {}
      },
      "source": [
        ""
      ],
      "execution_count": null,
      "outputs": []
    },
    {
      "cell_type": "markdown",
      "metadata": {
        "id": "OGdA2rjLGjc-",
        "colab_type": "text"
      },
      "source": [
        "#Write a Python program to find All Numbers which are Odd and Palindromes Between a Range of Numbers without using Recursion. The numbers obtained should be printed in a comma-separated sequence"
      ]
    },
    {
      "cell_type": "code",
      "metadata": {
        "id": "BzvgEtU2Gp46",
        "colab_type": "code",
        "colab": {
          "base_uri": "https://localhost:8080/",
          "height": 68
        },
        "outputId": "f25cb84c-fd3c-44f5-a625-5459d17a2662"
      },
      "source": [
        "\n",
        "a=[]\n",
        "l=int(input(\"Enter lower limit: \"))\n",
        "u=int(input(\"Enter upper limit: \"))\n",
        "a=[x for x in range(l,u+1) if x%2!=0 and str(x)==str(x)[::-1]]\n",
        "print(\"The numbers are: \",a)\n"
      ],
      "execution_count": 1,
      "outputs": [
        {
          "output_type": "stream",
          "text": [
            "Enter lower limit: 5\n",
            "Enter upper limit: 8\n",
            "The numbers are:  [5, 7]\n"
          ],
          "name": "stdout"
        }
      ]
    }
  ]
}