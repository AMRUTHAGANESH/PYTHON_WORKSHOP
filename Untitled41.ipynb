{
  "nbformat": 4,
  "nbformat_minor": 0,
  "metadata": {
    "colab": {
      "name": "Untitled41.ipynb",
      "provenance": [],
      "authorship_tag": "ABX9TyMFP3hi13vehM46MRjX/d+a",
      "include_colab_link": true
    },
    "kernelspec": {
      "name": "python3",
      "display_name": "Python 3"
    }
  },
  "cells": [
    {
      "cell_type": "markdown",
      "metadata": {
        "id": "view-in-github",
        "colab_type": "text"
      },
      "source": [
        "<a href=\"https://colab.research.google.com/github/AMRUTHAGANESH/PYTHON_WORKSHOP/blob/master/Untitled41.ipynb\" target=\"_parent\"><img src=\"https://colab.research.google.com/assets/colab-badge.svg\" alt=\"Open In Colab\"/></a>"
      ]
    },
    {
      "cell_type": "markdown",
      "metadata": {
        "id": "x_Eht2KcgJ8A",
        "colab_type": "text"
      },
      "source": [
        "#Python program to convert a 3 digit number into words"
      ]
    },
    {
      "cell_type": "code",
      "metadata": {
        "id": "YQPn9AVKgM-Y",
        "colab_type": "code",
        "colab": {
          "base_uri": "https://localhost:8080/",
          "height": 34
        },
        "outputId": "43efbbc5-792b-47f3-80a8-f5762004d583"
      },
      "source": [
        "def printValue(digit): \n",
        " \n",
        "  \n",
        " \n",
        "    # Switch block to check for each digit c \n",
        " \n",
        "  \n",
        " \n",
        "    # For digit 0 \n",
        " \n",
        "    if digit == '0': \n",
        " \n",
        "        print(\"Zero \", end = \" \") \n",
        " \n",
        "  \n",
        " \n",
        "    # For digit 1 \n",
        " \n",
        "    elif digit == '1': \n",
        " \n",
        "        print(\"One \", end = \" \") \n",
        " \n",
        "  \n",
        " \n",
        "    # For digit 2 \n",
        " \n",
        "    elif digit == '2': \n",
        " \n",
        "        print(\"Two \", end = \" \") \n",
        " \n",
        "  \n",
        " \n",
        "    #For digit 3 \n",
        " \n",
        "    elif digit=='3': \n",
        " \n",
        "        print(\"Three\",end=\" \") \n",
        " \n",
        "  \n",
        " \n",
        "    # For digit 4 \n",
        " \n",
        "    elif digit == '4': \n",
        " \n",
        "        print(\"Four \", end = \" \") \n",
        " \n",
        "  \n",
        " \n",
        "    # For digit 5 \n",
        " \n",
        "    elif digit == '5': \n",
        " \n",
        "        print(\"Five \", end = \" \") \n",
        " \n",
        "  \n",
        " \n",
        "    # For digit 6 \n",
        " \n",
        "    elif digit == '6': \n",
        " \n",
        "        print(\"Six \", end = \" \") \n",
        " \n",
        "  \n",
        " \n",
        "    # For digit 7 \n",
        " \n",
        "    elif digit == '7': \n",
        " \n",
        "        print(\"Seven\", end = \" \") \n",
        " \n",
        "  \n",
        " \n",
        "    # For digit 8 \n",
        " \n",
        "    elif digit == '8': \n",
        " \n",
        "        print(\"Eight\", end = \" \") \n",
        " \n",
        "  \n",
        " \n",
        "    # For digit 9 \n",
        " \n",
        "    elif digit == '9': \n",
        " \n",
        "        print(\"Nine \", end = \" \") \n",
        " \n",
        "  \n",
        "# Function to iterate through every \n",
        "# digit in the given number \n",
        " \n",
        "def printWord(N): \n",
        " \n",
        "    i = 0\n",
        " \n",
        "    length = len(N) \n",
        " \n",
        "  \n",
        " \n",
        "    # Finding each digit of the number \n",
        " \n",
        "    while i < length: \n",
        " \n",
        "          \n",
        " \n",
        "        # Print the digit in words \n",
        " \n",
        "        printValue(N[i]) \n",
        " \n",
        "        i += 1\n",
        " \n",
        "  \n",
        "# Driver code \n",
        " \n",
        "N = \"123\"\n",
        "printWord(N)"
      ],
      "execution_count": 1,
      "outputs": [
        {
          "output_type": "stream",
          "text": [
            "One  Two  Three "
          ],
          "name": "stdout"
        }
      ]
    }
  ]
}