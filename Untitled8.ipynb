{
  "nbformat": 4,
  "nbformat_minor": 0,
  "metadata": {
    "colab": {
      "name": "Untitled8.ipynb",
      "provenance": [],
      "authorship_tag": "ABX9TyMPZYJ0yf7HZtPIk1mG7Cq4",
      "include_colab_link": true
    },
    "kernelspec": {
      "name": "python3",
      "display_name": "Python 3"
    }
  },
  "cells": [
    {
      "cell_type": "markdown",
      "metadata": {
        "id": "view-in-github",
        "colab_type": "text"
      },
      "source": [
        "<a href=\"https://colab.research.google.com/github/AMRUTHAGANESH/PYTHON_WORKSHOP/blob/master/Untitled8.ipynb\" target=\"_parent\"><img src=\"https://colab.research.google.com/assets/colab-badge.svg\" alt=\"Open In Colab\"/></a>"
      ]
    },
    {
      "cell_type": "code",
      "metadata": {
        "id": "TTC1FRJyOp66",
        "colab_type": "code",
        "colab": {}
      },
      "source": [
        ""
      ],
      "execution_count": null,
      "outputs": []
    },
    {
      "cell_type": "markdown",
      "metadata": {
        "id": "s-rvtIDfOqqj",
        "colab_type": "text"
      },
      "source": [
        "#Find the greatest of four nos ( using ‘and’ operator) using function"
      ]
    },
    {
      "cell_type": "code",
      "metadata": {
        "id": "m6h5zaJmOxLo",
        "colab_type": "code",
        "colab": {
          "base_uri": "https://localhost:8080/",
          "height": 34
        },
        "outputId": "94da7dde-c111-4f10-b664-153fa8f7a219"
      },
      "source": [
        "n1 = 5\n",
        " \n",
        "n2 = 10\n",
        " \n",
        "n3 = 15\n",
        " \n",
        "n4 = 20\n",
        " \n",
        "  \n",
        " \n",
        "mx = (n1 if (n1 > n2 and n1 > n2 and n1 > n4)  \n",
        " \n",
        "         else (n2 if (n2 > n3 and n3 > n4)  \n",
        " \n",
        "         else (n3 if n3 > n4 else n4))) \n",
        " \n",
        "  \n",
        "# str() function is used to convert  \n",
        "# integer to string, it is required  \n",
        "# as we are concatenating integers \n",
        "# with string \n",
        " \n",
        "print(\"Largest number among \" + str(n1) + \", \" + \n",
        " \n",
        "            str(n2) + \", \" + str(n3) + \" and \" + \n",
        " \n",
        "            str(n4) + \" is \" + str(mx))\n"
      ],
      "execution_count": 1,
      "outputs": [
        {
          "output_type": "stream",
          "text": [
            "Largest number among 5, 10, 15 and 20 is 20\n"
          ],
          "name": "stdout"
        }
      ]
    }
  ]
}