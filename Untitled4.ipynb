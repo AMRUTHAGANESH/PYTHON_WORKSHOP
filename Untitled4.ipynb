{
  "nbformat": 4,
  "nbformat_minor": 0,
  "metadata": {
    "colab": {
      "name": "Untitled4.ipynb",
      "provenance": [],
      "authorship_tag": "ABX9TyMZGEPa/YxAenNYIAHzd8IR",
      "include_colab_link": true
    },
    "kernelspec": {
      "name": "python3",
      "display_name": "Python 3"
    }
  },
  "cells": [
    {
      "cell_type": "markdown",
      "metadata": {
        "id": "view-in-github",
        "colab_type": "text"
      },
      "source": [
        "<a href=\"https://colab.research.google.com/github/AMRUTHAGANESH/PYTHON_WORKSHOP/blob/master/Untitled4.ipynb\" target=\"_parent\"><img src=\"https://colab.research.google.com/assets/colab-badge.svg\" alt=\"Open In Colab\"/></a>"
      ]
    },
    {
      "cell_type": "code",
      "metadata": {
        "id": "rlxTWh9TKSJ1",
        "colab_type": "code",
        "colab": {}
      },
      "source": [
        ""
      ],
      "execution_count": 4,
      "outputs": []
    },
    {
      "cell_type": "markdown",
      "metadata": {
        "id": "1WroAAsFKUPa",
        "colab_type": "text"
      },
      "source": [
        "#Find the compound interest for the given p,n,r (formula : p(1+n*r/100)n )"
      ]
    },
    {
      "cell_type": "code",
      "metadata": {
        "id": "H-o2TaDiKWRo",
        "colab_type": "code",
        "colab": {}
      },
      "source": [
        "def compound_interest(principle, rate, n): \n",
        " \n",
        "  \n",
        " \n",
        "    # Calculates compound interest  \n",
        " \n",
        "    Amount = principle * (pow((1 +(n * rate) / 100), n)) \n",
        " \n",
        "    CI = Amount - principle \n",
        " \n",
        "    print(\"Compound interest is\", CI) \n",
        " \n",
        "  \n",
        "# Driver Code  \n",
        " "
      ],
      "execution_count": 12,
      "outputs": []
    },
    {
      "cell_type": "markdown",
      "metadata": {
        "id": "JRqDHHzqK0uZ",
        "colab_type": "text"
      },
      "source": [
        ""
      ]
    }
  ]
}